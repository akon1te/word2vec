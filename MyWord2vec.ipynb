{
  "nbformat": 4,
  "nbformat_minor": 0,
  "metadata": {
    "colab": {
      "name": "MyWord2vec.ipynb",
      "provenance": [],
      "collapsed_sections": []
    },
    "kernelspec": {
      "name": "python3",
      "display_name": "Python 3"
    },
    "language_info": {
      "name": "python"
    }
  },
  "cells": [
    {
      "cell_type": "code",
      "metadata": {
        "id": "BW75jD1Rcabb"
      },
      "source": [
        "import torch\n",
        "import numpy as np\n",
        "import torch.nn as nn\n",
        "import torch.nn.functional as F\n",
        "import plotly.express as px\n",
        "from sklearn.manifold import TSNE\n",
        "\n"
      ],
      "execution_count": null,
      "outputs": []
    },
    {
      "cell_type": "code",
      "metadata": {
        "id": "wtGBePJe6RnB"
      },
      "source": [
        "corpus = [\n",
        "          'let me tell you about mv best friend his name is yuriy we have known each other for ages we live in the same town and went to the same school now we study at the same university and though we study at different faculties we see each other almost every day my best friend is the first to come and support me in any difficult situation we have a lot in common we both do sports regularly that is because we want to be strong and look handsome we really look very much alike we have short dark hair grey eyes and a sport figure we also have many similar features of character we are merry smart and active', \n",
        "          'as yura is an easy going person he can easily make friends with anyone he likes communicating with new people yura likes travelling we often visit new places especially in summer we have already been to the crimea poltava and lvov this year we plan to visit the carpathian mountains yura is hobby is computer games he can spend hours in the virtual world as for me i like the internet where i find interesting information and make friends with people all over the world but my best friend lives in ukraine i am glad i have such a friend as yura'\n",
        "]\n"
      ],
      "execution_count": null,
      "outputs": []
    },
    {
      "cell_type": "code",
      "metadata": {
        "id": "ykY26no36XaF"
      },
      "source": [
        "tokenized_corpus = [x.split() for x in corpus]"
      ],
      "execution_count": null,
      "outputs": []
    },
    {
      "cell_type": "code",
      "metadata": {
        "id": "1bwwfBZy6Zel"
      },
      "source": [
        "vocabulary = []\n",
        "for sentence in tokenized_corpus:\n",
        "    for token in sentence:\n",
        "        if token not in vocabulary:\n",
        "            vocabulary.append(token)\n",
        "\n",
        "word2idx = {w: idx for (idx, w) in enumerate(vocabulary)}\n",
        "idx2word = {idx: w for (idx, w) in enumerate(vocabulary)}\n",
        "\n",
        "vocabulary_size = len(vocabulary)"
      ],
      "execution_count": null,
      "outputs": []
    },
    {
      "cell_type": "code",
      "metadata": {
        "id": "5wikj8_e6KBK"
      },
      "source": [
        "window_size = 2\n",
        "idx_pairs = []\n",
        "\n",
        "for sentence in tokenized_corpus:\n",
        "    idx = [word2idx[word] for word in sentence]\n",
        "    \n",
        "    for center_word_pos in range(len(idx)):\n",
        "        for w in range(-window_size, window_size + 1):\n",
        "            context_word_pos = center_word_pos + w\n",
        "            \n",
        "            if context_word_pos < 0 or context_word_pos >= len(idx) or center_word_pos == context_word_pos:\n",
        "                continue\n",
        "            context_word_idx = idx[context_word_pos]\n",
        "            idx_pairs.append((idx[center_word_pos], context_word_idx))\n",
        "\n",
        "idx_pairs = np.array(idx_pairs)"
      ],
      "execution_count": null,
      "outputs": []
    },
    {
      "cell_type": "code",
      "metadata": {
        "id": "5JXhXOGYdRCF"
      },
      "source": [
        "#v_embedding - центральное слово\n",
        "#u_embedding - контекстное слово"
      ],
      "execution_count": null,
      "outputs": []
    },
    {
      "cell_type": "code",
      "metadata": {
        "id": "QEeepvDqdsjc"
      },
      "source": [
        "def get_input_layer(word_idx):\n",
        "    x = torch.zeros(vocabulary_size, dtype=torch.float64)\n",
        "    x[word_idx] = 1.0\n",
        "    return x"
      ],
      "execution_count": null,
      "outputs": []
    },
    {
      "cell_type": "code",
      "metadata": {
        "id": "Josv1BOjFBzn"
      },
      "source": [
        "embedding_dim = 10\n",
        "v_embedding = torch.rand([embedding_dim, vocabulary_size], dtype=torch.float64, requires_grad = True)\n",
        "u_embedding = torch.rand([embedding_dim, vocabulary_size], dtype=torch.float64, requires_grad = True)\n",
        "learning_rate = 0.005\n",
        "epochs_cnt = 500"
      ],
      "execution_count": null,
      "outputs": []
    },
    {
      "cell_type": "code",
      "metadata": {
        "id": "_CF6wQ0FC4xJ"
      },
      "source": [
        "for epoch in range(epochs_cnt):\n",
        "  loss_value = 0\n",
        "  for center_word_idx, context_word_idx in idx_pairs:\n",
        "\n",
        "    input_vec = get_input_layer(center_word_idx)\n",
        "    output_vec = torch.from_numpy(np.array([context_word_idx]))\n",
        " \n",
        "    y1 = torch.matmul(v_embedding, input_vec)\n",
        "    y2 = torch.matmul(y1, u_embedding)   \n",
        "\n",
        "    log_softmax = F.log_softmax(y2, dim=0)\n",
        "\n",
        "    loss = F.nll_loss(log_softmax.view(1,-1), output_vec)\n",
        "    loss_value += loss.data\n",
        "    loss.backward()\n",
        "\n",
        "    v_embedding.data -= learning_rate * v_embedding.grad.data\n",
        "    u_embedding.data -= learning_rate * u_embedding.grad.data\n",
        "\n",
        "    v_embedding.grad.data.zero_()\n",
        "    u_embedding.grad.data.zero_()\n",
        "  if epoch % 10 == 0:    \n",
        "        print(f'Loss at epoch {epoch}: {loss_value/len(idx_pairs)}')"
      ],
      "execution_count": null,
      "outputs": []
    },
    {
      "cell_type": "code",
      "metadata": {
        "colab": {
          "base_uri": "https://localhost:8080/",
          "height": 35
        },
        "id": "XujS7xQHFIOK",
        "outputId": "385afa2b-5e30-4b63-83f8-9483e52ed9de"
      },
      "source": [
        "#тест\n",
        "input_vec = get_input_layer(31)\n",
        " \n",
        "y1 = torch.matmul(v_embedding, input_vec)\n",
        "y2 = torch.matmul(y1, u_embedding)   \n",
        "\n",
        "log_softmax = F.log_softmax(y2, dim=0)\n",
        "\n",
        "best_word_val = log_softmax[0]\n",
        "best_word_idx = 0\n",
        "\n",
        "for i in range(len(log_softmax)):\n",
        "  if best_word_val < log_softmax[i]:\n",
        "    best_word_val = log_softmax[i]\n",
        "    best_word_idx = i\n",
        "\n",
        "idx2word[best_word_idx]"
      ],
      "execution_count": null,
      "outputs": [
        {
          "output_type": "execute_result",
          "data": {
            "application/vnd.google.colaboratory.intrinsic+json": {
              "type": "string"
            },
            "text/plain": [
              "'though'"
            ]
          },
          "metadata": {},
          "execution_count": 27
        }
      ]
    },
    {
      "cell_type": "code",
      "metadata": {
        "id": "7DtB7CtFk6Zl"
      },
      "source": [
        "numpy_v_emb = v_embedding.detach().numpy()\n",
        "numpy_v_emb = numpy_v_emb.transpose()\n",
        "\n",
        "resized_v_emb = TSNE(n_components=2, learning_rate='auto',\n",
        "                   init='random').fit_transform(numpy_v_emb)"
      ],
      "execution_count": null,
      "outputs": []
    },
    {
      "cell_type": "code",
      "metadata": {
        "id": "zvAt0mLRv9I1"
      },
      "source": [
        "x_embed = []\n",
        "y_embed = []\n",
        "\n",
        "for i in range(len(resized_v_emb)):\n",
        "  x_embed.append(resized_v_emb[i][0])\n",
        "  y_embed.append(resized_v_emb[i][1])"
      ],
      "execution_count": null,
      "outputs": []
    },
    {
      "cell_type": "code",
      "metadata": {
        "colab": {
          "base_uri": "https://localhost:8080/",
          "height": 542
        },
        "id": "xe7IR8PbBN1O",
        "outputId": "c3855925-c105-4309-8e95-76511d06615b"
      },
      "source": [
        "fig = px.scatter(x=x_embed, y=y_embed, hover_name=vocabulary)\n",
        "fig.show()"
      ],
      "execution_count": null,
      "outputs": [
        {
          "output_type": "display_data",
          "data": {
            "text/html": [
              "<html>\n",
              "<head><meta charset=\"utf-8\" /></head>\n",
              "<body>\n",
              "    <div>\n",
              "            <script src=\"https://cdnjs.cloudflare.com/ajax/libs/mathjax/2.7.5/MathJax.js?config=TeX-AMS-MML_SVG\"></script><script type=\"text/javascript\">if (window.MathJax) {MathJax.Hub.Config({SVG: {font: \"STIX-Web\"}});}</script>\n",
              "                <script type=\"text/javascript\">window.PlotlyConfig = {MathJaxConfig: 'local'};</script>\n",
              "        <script src=\"https://cdn.plot.ly/plotly-latest.min.js\"></script>    \n",
              "            <div id=\"4d17bd89-ab86-4dab-af58-c033c0045773\" class=\"plotly-graph-div\" style=\"height:525px; width:100%;\"></div>\n",
              "            <script type=\"text/javascript\">\n",
              "                \n",
              "                    window.PLOTLYENV=window.PLOTLYENV || {};\n",
              "                    \n",
              "                if (document.getElementById(\"4d17bd89-ab86-4dab-af58-c033c0045773\")) {\n",
              "                    Plotly.newPlot(\n",
              "                        '4d17bd89-ab86-4dab-af58-c033c0045773',\n",
              "                        [{\"hoverlabel\": {\"namelength\": 0}, \"hovertemplate\": \"<b>%{hovertext}</b><br><br>x=%{x}<br>y=%{y}\", \"hovertext\": [\"let\", \"me\", \"tell\", \"you\", \"about\", \"mv\", \"best\", \"friend\", \"his\", \"name\", \"is\", \"yuriy\", \"we\", \"have\", \"known\", \"each\", \"other\", \"for\", \"ages\", \"live\", \"in\", \"the\", \"same\", \"town\", \"and\", \"went\", \"to\", \"school\", \"now\", \"study\", \"at\", \"university\", \"though\", \"different\", \"faculties\", \"see\", \"almost\", \"every\", \"day\", \"my\", \"first\", \"come\", \"support\", \"any\", \"difficult\", \"situation\", \"a\", \"lot\", \"common\", \"both\", \"do\", \"sports\", \"regularly\", \"that\", \"because\", \"want\", \"be\", \"strong\", \"look\", \"handsome\", \"really\", \"very\", \"much\", \"alike\", \"short\", \"dark\", \"hair\", \"grey\", \"eyes\", \"sport\", \"figure\", \"also\", \"many\", \"similar\", \"features\", \"of\", \"character\", \"are\", \"merry\", \"smart\", \"active\", \"as\", \"yura\", \"an\", \"easy\", \"going\", \"person\", \"he\", \"can\", \"easily\", \"make\", \"friends\", \"with\", \"anyone\", \"likes\", \"communicating\", \"new\", \"people\", \"travelling\", \"often\", \"visit\", \"places\", \"especially\", \"summer\", \"already\", \"been\", \"crimea\", \"poltava\", \"lvov\", \"this\", \"year\", \"plan\", \"carpathian\", \"mountains\", \"hobby\", \"computer\", \"games\", \"spend\", \"hours\", \"virtual\", \"world\", \"i\", \"like\", \"internet\", \"where\", \"find\", \"interesting\", \"information\", \"all\", \"over\", \"but\", \"lives\", \"ukraine\", \"am\", \"glad\", \"such\"], \"legendgroup\": \"\", \"marker\": {\"color\": \"#636efa\", \"symbol\": \"circle\"}, \"mode\": \"markers\", \"name\": \"\", \"showlegend\": false, \"type\": \"scatter\", \"x\": [-6.931877136230469, -4.839046955108643, -6.99032735824585, -7.1865129470825195, -7.503315448760986, -8.391397476196289, -6.5763349533081055, -4.721218109130859, -0.6784220933914185, -0.28540199995040894, -3.7070298194885254, -0.23243598639965057, 4.5512871742248535, 5.519237518310547, -7.072767734527588, -7.945981979370117, -8.88870620727539, -6.1306586265563965, -7.559750080108643, -4.323929309844971, 3.1787357330322266, -3.7756752967834473, 2.4319639205932617, 0.25616034865379333, -1.6929000616073608, -1.0483851432800293, 0.13058696687221527, 2.306312084197998, 1.7831711769104004, 2.8367691040039062, 2.544572591781616, 0.8538802266120911, 1.3539308309555054, 3.746675968170166, 3.891538381576538, -7.38467264175415, -7.740311622619629, -8.082568168640137, -8.406484603881836, -8.99948787689209, -2.3485119342803955, -1.3403289318084717, -4.13291597366333, -4.168942451477051, 2.0347487926483154, 2.318286418914795, 1.2431365251541138, 2.610708713531494, 6.047067165374756, 6.221170902252197, 6.502577781677246, 7.06454610824585, 7.50968599319458, 7.424106597900391, 7.0914435386657715, 0.8912670612335205, 1.3956630229949951, -0.7177810668945312, 0.4524901807308197, -0.14231213927268982, -0.5237709283828735, 0.07389476150274277, -0.32059669494628906, -0.19629035890102386, 4.109807968139648, 4.26407527923584, 5.233327865600586, 5.057309150695801, 3.9020931720733643, 3.2651045322418213, 2.264524459838867, 4.27283239364624, 4.201937198638916, 4.6793012619018555, 4.957543849945068, 4.258856773376465, 4.0393877029418945, 2.4841575622558594, 1.8400005102157593, 1.5466325283050537, 1.6479620933532715, -6.180474281311035, -4.667496204376221, -3.2522454261779785, -3.862541675567627, -3.6939873695373535, -2.038846015930176, -1.6514053344726562, -2.739954710006714, -1.4109519720077515, -0.7040956616401672, -1.1445962190628052, -0.9539094567298889, -0.4795396327972412, 1.3821667432785034, -0.10818970948457718, 2.325328826904297, -0.30615583062171936, 1.6264408826828003, 1.654388666152954, 4.141855716705322, 1.6970763206481934, 1.5474886894226074, 1.7646948099136353, 3.0391719341278076, 3.5540971755981445, -1.2502717971801758, -0.573028028011322, 0.1691495031118393, -0.09410201758146286, 0.28228503465652466, 1.2387840747833252, -3.813049554824829, -3.648800849914551, -2.787338972091675, -2.889284372329712, -2.2876386642456055, -2.256997585296631, -2.604144334793091, -4.441900253295898, -5.7589569091796875, -5.058741092681885, -4.118861675262451, -4.260692119598389, -3.6685004234313965, -3.166048765182495, -3.062938690185547, -1.2214057445526123, -3.4770491123199463, -3.8646228313446045, -4.715363502502441, -2.0688531398773193, -2.5819919109344482, -2.5160021781921387, -2.268742799758911, 1.7971079349517822], \"xaxis\": \"x\", \"y\": [2.6448991298675537, -1.9276617765426636, 1.926845669746399, 2.710991859436035, 2.7998404502868652, 2.1752445697784424, 4.912816047668457, 3.8942177295684814, 0.8534337282180786, 1.4303500652313232, 5.395240783691406, 0.027093829587101936, -7.161375522613525, 1.5393803119659424, -1.0674997568130493, -1.6842994689941406, -0.2709214389324188, -0.5741884708404541, -2.272615909576416, 0.5862452983856201, 2.009338855743408, -7.326217174530029, -7.00235652923584, -8.282610893249512, -4.917201519012451, -6.414310932159424, -8.018980026245117, -8.666906356811523, -8.15229320526123, -8.851866722106934, -9.359883308410645, -8.83143138885498, -7.70156717300415, -8.034175872802734, -8.520515441894531, -1.23185396194458, -0.20210926234722137, 0.6956137418746948, 0.8382155299186707, 2.007382392883301, -6.562412261962891, -7.474059104919434, -0.4722796678543091, -0.3246069848537445, 0.4416658878326416, 0.8719457983970642, -0.510485053062439, -0.5814611911773682, -1.6547173261642456, -1.9350699186325073, -2.3504889011383057, -2.5845019817352295, -3.2428629398345947, -3.3240153789520264, -3.960765838623047, -6.104926586151123, -5.879100322723389, -4.3709588050842285, -3.5202341079711914, -3.3569211959838867, -2.6616432666778564, -2.556511878967285, -2.2067759037017822, -1.0096558332443237, -0.6722710132598877, 0.32411009073257446, 0.8002078533172607, 0.3855205774307251, 0.20967203378677368, -0.5858051776885986, -1.2898567914962769, -1.7074943780899048, -4.195357322692871, -3.172391176223755, -3.6845765113830566, -3.7912650108337402, -3.1895389556884766, -3.769487142562866, -3.06451153755188, -3.9084248542785645, -3.026087760925293, 4.101173400878906, 6.2740936279296875, 6.143923759460449, 6.970120429992676, 7.162890434265137, 6.577836036682129, 7.8942999839782715, 7.962657451629639, 5.527997970581055, 4.791801452636719, 3.8528852462768555, 6.407166957855225, 6.25637674331665, 5.657253742218018, 6.212168216705322, 5.581772327423096, 6.99185848236084, 5.777987480163574, 4.607172012329102, 3.906123399734497, 3.406907081604004, 2.9719600677490234, 1.6285663843154907, -5.075952529907227, -5.608046531677246, -6.713621139526367, -5.829689979553223, -6.561291694641113, -5.489918231964111, -5.242293834686279, -7.268806457519531, 4.4594621658325195, 4.012728691101074, 5.349743366241455, 7.138741970062256, 5.63602876663208, 1.7641669511795044, 1.6513499021530151, 1.3712525367736816, 1.1073111295700073, -3.5389440059661865, -2.6026406288146973, -3.060392141342163, -2.78143048286438, -3.2333011627197266, -2.5532100200653076, 3.021815538406372, 2.520507574081421, 2.153414249420166, 1.8200702667236328, 0.6557338237762451, -0.16059210896492004, -1.0682342052459717, -0.6216332316398621, -0.12009633332490921], \"yaxis\": \"y\"}],\n",
              "                        {\"legend\": {\"tracegroupgap\": 0}, \"margin\": {\"t\": 60}, \"template\": {\"data\": {\"bar\": [{\"error_x\": {\"color\": \"#2a3f5f\"}, \"error_y\": {\"color\": \"#2a3f5f\"}, \"marker\": {\"line\": {\"color\": \"#E5ECF6\", \"width\": 0.5}}, \"type\": \"bar\"}], \"barpolar\": [{\"marker\": {\"line\": {\"color\": \"#E5ECF6\", \"width\": 0.5}}, \"type\": \"barpolar\"}], \"carpet\": [{\"aaxis\": {\"endlinecolor\": \"#2a3f5f\", \"gridcolor\": \"white\", \"linecolor\": \"white\", \"minorgridcolor\": \"white\", \"startlinecolor\": \"#2a3f5f\"}, \"baxis\": {\"endlinecolor\": \"#2a3f5f\", \"gridcolor\": \"white\", \"linecolor\": \"white\", \"minorgridcolor\": \"white\", \"startlinecolor\": \"#2a3f5f\"}, \"type\": \"carpet\"}], \"choropleth\": [{\"colorbar\": {\"outlinewidth\": 0, \"ticks\": \"\"}, \"type\": \"choropleth\"}], \"contour\": [{\"colorbar\": {\"outlinewidth\": 0, \"ticks\": \"\"}, \"colorscale\": [[0.0, \"#0d0887\"], [0.1111111111111111, \"#46039f\"], [0.2222222222222222, \"#7201a8\"], [0.3333333333333333, \"#9c179e\"], [0.4444444444444444, \"#bd3786\"], [0.5555555555555556, \"#d8576b\"], [0.6666666666666666, \"#ed7953\"], [0.7777777777777778, \"#fb9f3a\"], [0.8888888888888888, \"#fdca26\"], [1.0, \"#f0f921\"]], \"type\": \"contour\"}], \"contourcarpet\": [{\"colorbar\": {\"outlinewidth\": 0, \"ticks\": \"\"}, \"type\": \"contourcarpet\"}], \"heatmap\": [{\"colorbar\": {\"outlinewidth\": 0, \"ticks\": \"\"}, \"colorscale\": [[0.0, \"#0d0887\"], [0.1111111111111111, \"#46039f\"], [0.2222222222222222, \"#7201a8\"], [0.3333333333333333, \"#9c179e\"], [0.4444444444444444, \"#bd3786\"], [0.5555555555555556, \"#d8576b\"], [0.6666666666666666, \"#ed7953\"], [0.7777777777777778, \"#fb9f3a\"], [0.8888888888888888, \"#fdca26\"], [1.0, \"#f0f921\"]], \"type\": \"heatmap\"}], \"heatmapgl\": [{\"colorbar\": {\"outlinewidth\": 0, \"ticks\": \"\"}, \"colorscale\": [[0.0, \"#0d0887\"], [0.1111111111111111, \"#46039f\"], [0.2222222222222222, \"#7201a8\"], [0.3333333333333333, \"#9c179e\"], [0.4444444444444444, \"#bd3786\"], [0.5555555555555556, \"#d8576b\"], [0.6666666666666666, \"#ed7953\"], [0.7777777777777778, \"#fb9f3a\"], [0.8888888888888888, \"#fdca26\"], [1.0, \"#f0f921\"]], \"type\": \"heatmapgl\"}], \"histogram\": [{\"marker\": {\"colorbar\": {\"outlinewidth\": 0, \"ticks\": \"\"}}, \"type\": \"histogram\"}], \"histogram2d\": [{\"colorbar\": {\"outlinewidth\": 0, \"ticks\": \"\"}, \"colorscale\": [[0.0, \"#0d0887\"], [0.1111111111111111, \"#46039f\"], [0.2222222222222222, \"#7201a8\"], [0.3333333333333333, \"#9c179e\"], [0.4444444444444444, \"#bd3786\"], [0.5555555555555556, \"#d8576b\"], [0.6666666666666666, \"#ed7953\"], [0.7777777777777778, \"#fb9f3a\"], [0.8888888888888888, \"#fdca26\"], [1.0, \"#f0f921\"]], \"type\": \"histogram2d\"}], \"histogram2dcontour\": [{\"colorbar\": {\"outlinewidth\": 0, \"ticks\": \"\"}, \"colorscale\": [[0.0, \"#0d0887\"], [0.1111111111111111, \"#46039f\"], [0.2222222222222222, \"#7201a8\"], [0.3333333333333333, \"#9c179e\"], [0.4444444444444444, \"#bd3786\"], [0.5555555555555556, \"#d8576b\"], [0.6666666666666666, \"#ed7953\"], [0.7777777777777778, \"#fb9f3a\"], [0.8888888888888888, \"#fdca26\"], [1.0, \"#f0f921\"]], \"type\": \"histogram2dcontour\"}], \"mesh3d\": [{\"colorbar\": {\"outlinewidth\": 0, \"ticks\": \"\"}, \"type\": \"mesh3d\"}], \"parcoords\": [{\"line\": {\"colorbar\": {\"outlinewidth\": 0, \"ticks\": \"\"}}, \"type\": \"parcoords\"}], \"pie\": [{\"automargin\": true, \"type\": \"pie\"}], \"scatter\": [{\"marker\": {\"colorbar\": {\"outlinewidth\": 0, \"ticks\": \"\"}}, \"type\": \"scatter\"}], \"scatter3d\": [{\"line\": {\"colorbar\": {\"outlinewidth\": 0, \"ticks\": \"\"}}, \"marker\": {\"colorbar\": {\"outlinewidth\": 0, \"ticks\": \"\"}}, \"type\": \"scatter3d\"}], \"scattercarpet\": [{\"marker\": {\"colorbar\": {\"outlinewidth\": 0, \"ticks\": \"\"}}, \"type\": \"scattercarpet\"}], \"scattergeo\": [{\"marker\": {\"colorbar\": {\"outlinewidth\": 0, \"ticks\": \"\"}}, \"type\": \"scattergeo\"}], \"scattergl\": [{\"marker\": {\"colorbar\": {\"outlinewidth\": 0, \"ticks\": \"\"}}, \"type\": \"scattergl\"}], \"scattermapbox\": [{\"marker\": {\"colorbar\": {\"outlinewidth\": 0, \"ticks\": \"\"}}, \"type\": \"scattermapbox\"}], \"scatterpolar\": [{\"marker\": {\"colorbar\": {\"outlinewidth\": 0, \"ticks\": \"\"}}, \"type\": \"scatterpolar\"}], \"scatterpolargl\": [{\"marker\": {\"colorbar\": {\"outlinewidth\": 0, \"ticks\": \"\"}}, \"type\": \"scatterpolargl\"}], \"scatterternary\": [{\"marker\": {\"colorbar\": {\"outlinewidth\": 0, \"ticks\": \"\"}}, \"type\": \"scatterternary\"}], \"surface\": [{\"colorbar\": {\"outlinewidth\": 0, \"ticks\": \"\"}, \"colorscale\": [[0.0, \"#0d0887\"], [0.1111111111111111, \"#46039f\"], [0.2222222222222222, \"#7201a8\"], [0.3333333333333333, \"#9c179e\"], [0.4444444444444444, \"#bd3786\"], [0.5555555555555556, \"#d8576b\"], [0.6666666666666666, \"#ed7953\"], [0.7777777777777778, \"#fb9f3a\"], [0.8888888888888888, \"#fdca26\"], [1.0, \"#f0f921\"]], \"type\": \"surface\"}], \"table\": [{\"cells\": {\"fill\": {\"color\": \"#EBF0F8\"}, \"line\": {\"color\": \"white\"}}, \"header\": {\"fill\": {\"color\": \"#C8D4E3\"}, \"line\": {\"color\": \"white\"}}, \"type\": \"table\"}]}, \"layout\": {\"annotationdefaults\": {\"arrowcolor\": \"#2a3f5f\", \"arrowhead\": 0, \"arrowwidth\": 1}, \"coloraxis\": {\"colorbar\": {\"outlinewidth\": 0, \"ticks\": \"\"}}, \"colorscale\": {\"diverging\": [[0, \"#8e0152\"], [0.1, \"#c51b7d\"], [0.2, \"#de77ae\"], [0.3, \"#f1b6da\"], [0.4, \"#fde0ef\"], [0.5, \"#f7f7f7\"], [0.6, \"#e6f5d0\"], [0.7, \"#b8e186\"], [0.8, \"#7fbc41\"], [0.9, \"#4d9221\"], [1, \"#276419\"]], \"sequential\": [[0.0, \"#0d0887\"], [0.1111111111111111, \"#46039f\"], [0.2222222222222222, \"#7201a8\"], [0.3333333333333333, \"#9c179e\"], [0.4444444444444444, \"#bd3786\"], [0.5555555555555556, \"#d8576b\"], [0.6666666666666666, \"#ed7953\"], [0.7777777777777778, \"#fb9f3a\"], [0.8888888888888888, \"#fdca26\"], [1.0, \"#f0f921\"]], \"sequentialminus\": [[0.0, \"#0d0887\"], [0.1111111111111111, \"#46039f\"], [0.2222222222222222, \"#7201a8\"], [0.3333333333333333, \"#9c179e\"], [0.4444444444444444, \"#bd3786\"], [0.5555555555555556, \"#d8576b\"], [0.6666666666666666, \"#ed7953\"], [0.7777777777777778, \"#fb9f3a\"], [0.8888888888888888, \"#fdca26\"], [1.0, \"#f0f921\"]]}, \"colorway\": [\"#636efa\", \"#EF553B\", \"#00cc96\", \"#ab63fa\", \"#FFA15A\", \"#19d3f3\", \"#FF6692\", \"#B6E880\", \"#FF97FF\", \"#FECB52\"], \"font\": {\"color\": \"#2a3f5f\"}, \"geo\": {\"bgcolor\": \"white\", \"lakecolor\": \"white\", \"landcolor\": \"#E5ECF6\", \"showlakes\": true, \"showland\": true, \"subunitcolor\": \"white\"}, \"hoverlabel\": {\"align\": \"left\"}, \"hovermode\": \"closest\", \"mapbox\": {\"style\": \"light\"}, \"paper_bgcolor\": \"white\", \"plot_bgcolor\": \"#E5ECF6\", \"polar\": {\"angularaxis\": {\"gridcolor\": \"white\", \"linecolor\": \"white\", \"ticks\": \"\"}, \"bgcolor\": \"#E5ECF6\", \"radialaxis\": {\"gridcolor\": \"white\", \"linecolor\": \"white\", \"ticks\": \"\"}}, \"scene\": {\"xaxis\": {\"backgroundcolor\": \"#E5ECF6\", \"gridcolor\": \"white\", \"gridwidth\": 2, \"linecolor\": \"white\", \"showbackground\": true, \"ticks\": \"\", \"zerolinecolor\": \"white\"}, \"yaxis\": {\"backgroundcolor\": \"#E5ECF6\", \"gridcolor\": \"white\", \"gridwidth\": 2, \"linecolor\": \"white\", \"showbackground\": true, \"ticks\": \"\", \"zerolinecolor\": \"white\"}, \"zaxis\": {\"backgroundcolor\": \"#E5ECF6\", \"gridcolor\": \"white\", \"gridwidth\": 2, \"linecolor\": \"white\", \"showbackground\": true, \"ticks\": \"\", \"zerolinecolor\": \"white\"}}, \"shapedefaults\": {\"line\": {\"color\": \"#2a3f5f\"}}, \"ternary\": {\"aaxis\": {\"gridcolor\": \"white\", \"linecolor\": \"white\", \"ticks\": \"\"}, \"baxis\": {\"gridcolor\": \"white\", \"linecolor\": \"white\", \"ticks\": \"\"}, \"bgcolor\": \"#E5ECF6\", \"caxis\": {\"gridcolor\": \"white\", \"linecolor\": \"white\", \"ticks\": \"\"}}, \"title\": {\"x\": 0.05}, \"xaxis\": {\"automargin\": true, \"gridcolor\": \"white\", \"linecolor\": \"white\", \"ticks\": \"\", \"title\": {\"standoff\": 15}, \"zerolinecolor\": \"white\", \"zerolinewidth\": 2}, \"yaxis\": {\"automargin\": true, \"gridcolor\": \"white\", \"linecolor\": \"white\", \"ticks\": \"\", \"title\": {\"standoff\": 15}, \"zerolinecolor\": \"white\", \"zerolinewidth\": 2}}}, \"xaxis\": {\"anchor\": \"y\", \"domain\": [0.0, 1.0], \"title\": {\"text\": \"x\"}}, \"yaxis\": {\"anchor\": \"x\", \"domain\": [0.0, 1.0], \"title\": {\"text\": \"y\"}}},\n",
              "                        {\"responsive\": true}\n",
              "                    ).then(function(){\n",
              "                            \n",
              "var gd = document.getElementById('4d17bd89-ab86-4dab-af58-c033c0045773');\n",
              "var x = new MutationObserver(function (mutations, observer) {{\n",
              "        var display = window.getComputedStyle(gd).display;\n",
              "        if (!display || display === 'none') {{\n",
              "            console.log([gd, 'removed!']);\n",
              "            Plotly.purge(gd);\n",
              "            observer.disconnect();\n",
              "        }}\n",
              "}});\n",
              "\n",
              "// Listen for the removal of the full notebook cells\n",
              "var notebookContainer = gd.closest('#notebook-container');\n",
              "if (notebookContainer) {{\n",
              "    x.observe(notebookContainer, {childList: true});\n",
              "}}\n",
              "\n",
              "// Listen for the clearing of the current output cell\n",
              "var outputEl = gd.closest('.output');\n",
              "if (outputEl) {{\n",
              "    x.observe(outputEl, {childList: true});\n",
              "}}\n",
              "\n",
              "                        })\n",
              "                };\n",
              "                \n",
              "            </script>\n",
              "        </div>\n",
              "</body>\n",
              "</html>"
            ]
          },
          "metadata": {}
        }
      ]
    },
    {
      "cell_type": "code",
      "metadata": {
        "id": "EgyPLK9MCn03"
      },
      "source": [
        ""
      ],
      "execution_count": null,
      "outputs": []
    }
  ]
}